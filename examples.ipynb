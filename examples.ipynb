{
 "cells": [
  {
   "cell_type": "markdown",
   "id": "c3c5bf23-1c79-4f3b-9b2e-2e5c45d95dee",
   "metadata": {},
   "source": [
    "# Examples on how ADFlib works"
   ]
  },
  {
   "cell_type": "code",
   "execution_count": 1,
   "id": "f4c0499e-1aaa-433b-835f-c03501432ad3",
   "metadata": {},
   "outputs": [],
   "source": [
    "from ADFlib import *\n",
    "%load_ext autoreload\n",
    "%autoreload 2"
   ]
  },
  {
   "cell_type": "markdown",
   "id": "f939d02e-2784-4eb1-8aa4-9fcfaea0e614",
   "metadata": {},
   "source": [
    "## Base level factors"
   ]
  },
  {
   "cell_type": "code",
   "execution_count": 2,
   "id": "b044940f-4d36-46dd-9ce2-71956d4fa97d",
   "metadata": {},
   "outputs": [
    {
     "data": {
      "text/plain": [
       "0: Did the crime occur?[True]"
      ]
     },
     "execution_count": 2,
     "metadata": {},
     "output_type": "execute_result"
    }
   ],
   "source": [
    "# A base level factor contains an id, text and truth value \n",
    "blf = BaseLevelFactor(0, 'Did the crime occur?', True)\n",
    "blf"
   ]
  },
  {
   "cell_type": "code",
   "execution_count": 3,
   "id": "28020317-685c-4e79-b2b2-22219d481c4e",
   "metadata": {},
   "outputs": [
    {
     "data": {
      "text/plain": [
       "1: Was there a victim?[False]"
      ]
     },
     "execution_count": 3,
     "metadata": {},
     "output_type": "execute_result"
    }
   ],
   "source": [
    "blf2 = BaseLevelFactor(1, 'Was there a victim?', False)\n",
    "blf2"
   ]
  },
  {
   "cell_type": "markdown",
   "id": "6ec52d39-86d3-4c66-a57e-4abfa52e8cad",
   "metadata": {},
   "source": [
    "## Relationships"
   ]
  },
  {
   "cell_type": "code",
   "execution_count": 4,
   "id": "864268c4-f8fc-460f-9341-bcf0264a45c7",
   "metadata": {},
   "outputs": [
    {
     "name": "stdout",
     "output_type": "stream",
     "text": [
      "   0: Did the crime occur?[True] OR\n",
      "   1: Was there a victim?[False] \n",
      "> Evaluates to True\n"
     ]
    }
   ],
   "source": [
    "# OR relations take 2 or more base level factors or relations\n",
    "r_OR = Relationship('OR', [blf, blf2])\n",
    "print(r_OR, '\\n> Evaluates to', r_OR.evaluate())"
   ]
  },
  {
   "cell_type": "code",
   "execution_count": 5,
   "id": "92c28316-6f75-4add-bdba-990644b45d35",
   "metadata": {},
   "outputs": [
    {
     "name": "stdout",
     "output_type": "stream",
     "text": [
      "NOT 1: Was there a victim?[False] \n",
      "> Evaluates to True\n"
     ]
    }
   ],
   "source": [
    "# NOT relations take 1 base level factors\n",
    "r_NOT = Relationship('NOT', blf2)\n",
    "print(r_NOT, '\\n> Evaluates to',  r_NOT.evaluate())"
   ]
  },
  {
   "cell_type": "code",
   "execution_count": 6,
   "id": "a2b4a90d-aefa-4aa1-9385-2073e9d72ed1",
   "metadata": {},
   "outputs": [
    {
     "name": "stdout",
     "output_type": "stream",
     "text": [
      "   0: Did the crime occur?[True] AND\n",
      "   NOT 1: Was there a victim?[False] \n",
      "> Evaluates to True\n"
     ]
    }
   ],
   "source": [
    "# AND relations take 2 or more base level factors or relations\n",
    "r_AND = Relationship('AND', [blf, r_NOT])\n",
    "print(r_AND, '\\n> Evaluates to',  r_AND.evaluate())"
   ]
  },
  {
   "cell_type": "markdown",
   "id": "cf2fc8ce-c80a-42d1-9e54-553fa32b4629",
   "metadata": {},
   "source": [
    "## Abstract factors"
   ]
  },
  {
   "cell_type": "code",
   "execution_count": 7,
   "id": "36c090b1-b59f-4c7f-a304-5c517b8c4d60",
   "metadata": {},
   "outputs": [
    {
     "name": "stdout",
     "output_type": "stream",
     "text": [
      "2: This is an abstract factor[True]\n",
      "   ACCEPT 2 IF:\n",
      "   0: Did the crime occur?[True] AND\n",
      "   NOT 1: Was there a victim?[False]\n",
      "   REJECT otherwise\n",
      " \n",
      "> Evaluates to True\n"
     ]
    }
   ],
   "source": [
    "# abstract factors contain an identifier, text, default evaluation, \n",
    "# the factors for acceptance and factors for rejection (both of which \n",
    "# are defined in terms of a relationship)\n",
    "af = AbstractFactor(identifier=2, \n",
    "                    text='This is an abstract factor', \n",
    "                    default=False,\n",
    "                    acceptfactors=r_AND,\n",
    "                    rejectfactors=None)\n",
    "print(af, '\\n> Evaluates to',  af.evaluate())"
   ]
  },
  {
   "cell_type": "markdown",
   "id": "77aa633d-e097-467d-831d-29247e9ed986",
   "metadata": {},
   "source": [
    "## ADFs"
   ]
  },
  {
   "cell_type": "code",
   "execution_count": 8,
   "id": "f6f4c11a-4761-48b7-b28f-fc8dad0c5d41",
   "metadata": {},
   "outputs": [
    {
     "name": "stdout",
     "output_type": "stream",
     "text": [
      "2: This is an ADF[False]\n",
      "   REJECT 2 IF:\n",
      "NOT 1: Was there a victim?[False]\n",
      "   ACCEPT 2 IF:\n",
      "   0: Did the crime occur?[True] OR\n",
      "   1: Was there a victim?[False]\n",
      "   REJECT otherwise\n",
      " \n",
      "> Evaluates to False\n"
     ]
    }
   ],
   "source": [
    "# an ADF is a subclass of an abstract factor with some additional functions\n",
    "adf = ADF(identifier=2, \n",
    "          text='This is an ADF', \n",
    "          default=False,\n",
    "          acceptfactors=r_OR,\n",
    "          rejectfactors=r_NOT)\n",
    "print(adf, '\\n> Evaluates to',  adf.evaluate())"
   ]
  },
  {
   "cell_type": "code",
   "execution_count": 9,
   "id": "0610fe36-9ceb-4585-8fb4-9407c879138d",
   "metadata": {},
   "outputs": [
    {
     "data": {
      "text/plain": [
       "[0: Did the crime occur?[True], 1: Was there a victim?[False]]"
      ]
     },
     "execution_count": 9,
     "metadata": {},
     "output_type": "execute_result"
    }
   ],
   "source": [
    "# List all of the baselevel factors\n",
    "adf.get_baselevel_factors()"
   ]
  },
  {
   "cell_type": "code",
   "execution_count": 10,
   "id": "dcb1d266-8799-4f09-9484-8dce3921fa22",
   "metadata": {},
   "outputs": [
    {
     "data": {
      "text/plain": [
       "[0: Did the crime occur?[False], 1: Was there a victim?[False]]"
      ]
     },
     "execution_count": 10,
     "metadata": {},
     "output_type": "execute_result"
    }
   ],
   "source": [
    "# Change the values of the baselevel factors of the ADF\n",
    "vals = {0:False} # Changing the value of base level factor 0 to False\n",
    "adf.set_baselevel_factors(vals)\n",
    "adf.get_baselevel_factors()"
   ]
  },
  {
   "cell_type": "markdown",
   "id": "27c9258b-b86c-4e58-8000-da3d48716477",
   "metadata": {},
   "source": [
    "# Example: Article 6 of the European Convention on Human Rights"
   ]
  },
  {
   "cell_type": "code",
   "execution_count": 11,
   "id": "ad563dc7-aa5a-45af-ab2f-7b443f3b64cf",
   "metadata": {},
   "outputs": [
    {
     "data": {
      "text/plain": [
       "violation: Violation of Article 6?[False]\n",
       "   ACCEPT violation IF:\n",
       "   I1: Is the applicant a victim?[False] AND\n",
       "   I2: The applicant was admissible[False]\n",
       "      ACCEPT I2 IF:\n",
       "         I2Q1: Is the case well founded?[False] AND\n",
       "         I2F1: The victim suffered a disadvantage.[False]\n",
       "         ACCEPT I2F1 IF:\n",
       "               I2F1Q1: The case examines a fundamental aspect?[False] AND\n",
       "               I2F1Q2: Have all Domestic courts have been exhausted?[False]\n",
       "         REJECT otherwise\n",
       "      \n",
       "      REJECT otherwise\n",
       "    AND\n",
       "   I3: Fair and Public.[False]\n",
       "      ACCEPT I3 IF:\n",
       "         I3F1: Conducted in Reasonable Time.[False]\n",
       "         ACCEPT I3F1 IF:\n",
       "               I3F1Q2: Did the government cause any unreasonable delays?[False] AND\n",
       "               I3F1Q1: Was the case conducted in a reasonable time?[False]\n",
       "         REJECT otherwise\n",
       "       AND\n",
       "         I3F2: The case was independent and impartial.[False]\n",
       "         ACCEPT I3F2 IF:\n",
       "               I3F2Q1: The government was subjectively impartial?[False] AND\n",
       "               I3F2Q2: The government was objectively impartial?[False]\n",
       "         REJECT otherwise\n",
       "       AND\n",
       "         I3F3: The case was conducted publicly and had no exceptions.[True]\n",
       "         ACCEPT I3F3 IF:\n",
       "                           I3F3Q1: If the case was public, the public wouldn’t prejudice the outcome?[False] AND\n",
       "                     I3F3Q2: The safety of the public wouldn’t be impacted, if the case was public?[False] AND\n",
       "                     I3F3Q3: Any extra privacy is not required in this case?[False] AND\n",
       "                     I3F3Q4: The public would not hinder justice, if the case was public?[False] AND\n",
       "                     I3F3Q5: Was the case pronounced publicly?[False] AND\n",
       "                     I3F3Q6: Was the case conducted publicly?[False] OR\n",
       "                                          NOT I3F3Q1: If the case was public, the public wouldn’t prejudice the outcome?[False] OR\n",
       "                           NOT I3F3Q2: The safety of the public wouldn’t be impacted, if the case was public?[False] OR\n",
       "                           NOT I3F3Q3: Any extra privacy is not required in this case?[False] OR\n",
       "                           NOT I3F3Q4: The public would not hinder justice, if the case was public?[False] AND\n",
       "                                    NOT I3F3Q5: Was the case pronounced publicly?[False] AND\n",
       "                           NOT I3F3Q6: Was the case conducted publicly?[False]\n",
       "         REJECT otherwise\n",
       "       AND\n",
       "         I3F4Q1: Was there equality of arms?[False] AND\n",
       "         I3F5Q1: Was the victim given appropriate access to Court?[False] AND\n",
       "         I3F6: Legal certainty is upheld.[False]\n",
       "         ACCEPT I3F6 IF:\n",
       "                           I3F6Q1: Can the highest court be considered binding in its findings?[False] OR\n",
       "                                    NOT I3F6Q1: Can the highest court be considered binding in its findings?[False] AND\n",
       "                           I3F6Q2: Was the case was reopened due to new facts or a fundamental defect in fairness?[False] AND\n",
       "               NOT I3F6F1: There are conflicting decisions in case law which affect the fairness of the case.[False]\n",
       "   ACCEPT I3F6F1 IF:\n",
       "   I3F6F1Q1: Are there profound and long-standing differences in the case law?[False] AND\n",
       "   NOT I3F6F1Q2: Have tools have been used to overcome any difference in case law?[False]\n",
       "   REJECT otherwise\n",
       "\n",
       "         REJECT otherwise\n",
       "      \n",
       "      REJECT otherwise\n",
       "    AND\n",
       "   I4: The applicant was presumed innocent.[False]\n",
       "      ACCEPT I4 IF:\n",
       "         I4Q1: Was the victim presumed innocent?[False] AND\n",
       "         I4Q2: Does the Prosecution bares the burden of proof?[False] AND\n",
       "         I4Q3: Any doubts benefited applicant?[False]\n",
       "      REJECT otherwise\n",
       "    AND\n",
       "   I5: Had minimum rights.[False]\n",
       "      ACCEPT I5 IF:\n",
       "         I5F1: The applicant was informed promptly.[False]\n",
       "         ACCEPT I5F1 IF:\n",
       "               I5F1Q1: Was the applicant informed in the correct language?[False] AND\n",
       "               I5F1Q2: Was the applicant given details of the case?[False] AND\n",
       "               I5F1Q3: Was the applicant told what crime they had committed?[False]\n",
       "         REJECT otherwise\n",
       "       AND\n",
       "         I5Q1: The applicant had time and facilities to prepare their defence?[False] AND\n",
       "         I5F2: Opportunity to defend themselves in person.[False]\n",
       "         ACCEPT I5F2 IF:\n",
       "               I5F2Q3: The applicant was not prevented from accessing lawyers?[False] AND\n",
       "                                          I5F2Q2: Has the applicant waived right to defend themselves?[False] AND\n",
       "                           NOT I5F2Q1: Has the applicant attempted to escape trial?[False] OR\n",
       "                     NOT I5F2Q1: Has the applicant attempted to escape trial?[False]\n",
       "         REJECT otherwise\n",
       "       AND\n",
       "         I5F3: Access to legal assistance.[False]\n",
       "         ACCEPT I5F3 IF:\n",
       "               I5F3Q1: Did the applicant have access to legal assistance?[False] AND\n",
       "               I5F3Q2: Did the applicant have access to free legal assistance if necessary?[False]\n",
       "         REJECT otherwise\n",
       "       AND\n",
       "         I5F4: Able to examine witnesses.[False]\n",
       "         ACCEPT I5F4 IF:\n",
       "               I5F4Q1: Witnesses were examined under same conditions?[False] AND\n",
       "               I5F4Q2: Witnesses had a valid reason for non attendance?[False]\n",
       "         REJECT otherwise\n",
       "       AND\n",
       "         I5Q2: The applicant could have free access to interpreter.[False]\n",
       "      REJECT otherwise\n",
       "   \n",
       "   REJECT otherwise"
      ]
     },
     "execution_count": 11,
     "metadata": {},
     "output_type": "execute_result"
    }
   ],
   "source": [
    "# Import the ADF from article6.py\n",
    "from article6 import art6_ADF\n",
    "\n",
    "# Show the ADF\n",
    "art6_ADF"
   ]
  },
  {
   "cell_type": "markdown",
   "id": "c9f9b768-b674-4016-a4ac-6f5f8e63e5aa",
   "metadata": {},
   "source": [
    "# Creating data from the ADF"
   ]
  },
  {
   "cell_type": "code",
   "execution_count": 12,
   "id": "2e2d83a1-eb25-4cfc-a13c-3a247274222e",
   "metadata": {},
   "outputs": [
    {
     "data": {
      "text/html": [
       "<div>\n",
       "<style scoped>\n",
       "    .dataframe tbody tr th:only-of-type {\n",
       "        vertical-align: middle;\n",
       "    }\n",
       "\n",
       "    .dataframe tbody tr th {\n",
       "        vertical-align: top;\n",
       "    }\n",
       "\n",
       "    .dataframe thead th {\n",
       "        text-align: right;\n",
       "    }\n",
       "</style>\n",
       "<table border=\"1\" class=\"dataframe\">\n",
       "  <thead>\n",
       "    <tr style=\"text-align: right;\">\n",
       "      <th></th>\n",
       "      <th>I1</th>\n",
       "      <th>I2Q1</th>\n",
       "      <th>I2F1Q1</th>\n",
       "      <th>I2F1Q2</th>\n",
       "      <th>I3F1Q2</th>\n",
       "      <th>I3F1Q1</th>\n",
       "      <th>I3F2Q1</th>\n",
       "      <th>I3F2Q2</th>\n",
       "      <th>I3F3Q1</th>\n",
       "      <th>I3F3Q2</th>\n",
       "      <th>...</th>\n",
       "      <th>I5Q1</th>\n",
       "      <th>I5F2Q3</th>\n",
       "      <th>I5F2Q2</th>\n",
       "      <th>I5F2Q1</th>\n",
       "      <th>I5F3Q1</th>\n",
       "      <th>I5F3Q2</th>\n",
       "      <th>I5F4Q1</th>\n",
       "      <th>I5F4Q2</th>\n",
       "      <th>I5Q2</th>\n",
       "      <th>violation</th>\n",
       "    </tr>\n",
       "  </thead>\n",
       "  <tbody>\n",
       "    <tr>\n",
       "      <th>0</th>\n",
       "      <td>1</td>\n",
       "      <td>1</td>\n",
       "      <td>1</td>\n",
       "      <td>1</td>\n",
       "      <td>1</td>\n",
       "      <td>1</td>\n",
       "      <td>0</td>\n",
       "      <td>1</td>\n",
       "      <td>1</td>\n",
       "      <td>0</td>\n",
       "      <td>...</td>\n",
       "      <td>1</td>\n",
       "      <td>1</td>\n",
       "      <td>1</td>\n",
       "      <td>1</td>\n",
       "      <td>1</td>\n",
       "      <td>1</td>\n",
       "      <td>1</td>\n",
       "      <td>1</td>\n",
       "      <td>0</td>\n",
       "      <td>False</td>\n",
       "    </tr>\n",
       "    <tr>\n",
       "      <th>1</th>\n",
       "      <td>1</td>\n",
       "      <td>0</td>\n",
       "      <td>0</td>\n",
       "      <td>1</td>\n",
       "      <td>0</td>\n",
       "      <td>0</td>\n",
       "      <td>0</td>\n",
       "      <td>0</td>\n",
       "      <td>0</td>\n",
       "      <td>1</td>\n",
       "      <td>...</td>\n",
       "      <td>1</td>\n",
       "      <td>0</td>\n",
       "      <td>1</td>\n",
       "      <td>0</td>\n",
       "      <td>0</td>\n",
       "      <td>1</td>\n",
       "      <td>1</td>\n",
       "      <td>0</td>\n",
       "      <td>1</td>\n",
       "      <td>False</td>\n",
       "    </tr>\n",
       "    <tr>\n",
       "      <th>2</th>\n",
       "      <td>1</td>\n",
       "      <td>0</td>\n",
       "      <td>1</td>\n",
       "      <td>1</td>\n",
       "      <td>0</td>\n",
       "      <td>1</td>\n",
       "      <td>0</td>\n",
       "      <td>0</td>\n",
       "      <td>0</td>\n",
       "      <td>0</td>\n",
       "      <td>...</td>\n",
       "      <td>0</td>\n",
       "      <td>0</td>\n",
       "      <td>0</td>\n",
       "      <td>1</td>\n",
       "      <td>1</td>\n",
       "      <td>1</td>\n",
       "      <td>1</td>\n",
       "      <td>0</td>\n",
       "      <td>1</td>\n",
       "      <td>False</td>\n",
       "    </tr>\n",
       "    <tr>\n",
       "      <th>3</th>\n",
       "      <td>1</td>\n",
       "      <td>0</td>\n",
       "      <td>1</td>\n",
       "      <td>0</td>\n",
       "      <td>1</td>\n",
       "      <td>1</td>\n",
       "      <td>0</td>\n",
       "      <td>0</td>\n",
       "      <td>1</td>\n",
       "      <td>1</td>\n",
       "      <td>...</td>\n",
       "      <td>0</td>\n",
       "      <td>1</td>\n",
       "      <td>0</td>\n",
       "      <td>0</td>\n",
       "      <td>0</td>\n",
       "      <td>1</td>\n",
       "      <td>0</td>\n",
       "      <td>1</td>\n",
       "      <td>1</td>\n",
       "      <td>False</td>\n",
       "    </tr>\n",
       "    <tr>\n",
       "      <th>4</th>\n",
       "      <td>1</td>\n",
       "      <td>0</td>\n",
       "      <td>1</td>\n",
       "      <td>0</td>\n",
       "      <td>0</td>\n",
       "      <td>0</td>\n",
       "      <td>1</td>\n",
       "      <td>1</td>\n",
       "      <td>1</td>\n",
       "      <td>0</td>\n",
       "      <td>...</td>\n",
       "      <td>1</td>\n",
       "      <td>0</td>\n",
       "      <td>1</td>\n",
       "      <td>0</td>\n",
       "      <td>0</td>\n",
       "      <td>1</td>\n",
       "      <td>1</td>\n",
       "      <td>0</td>\n",
       "      <td>0</td>\n",
       "      <td>False</td>\n",
       "    </tr>\n",
       "    <tr>\n",
       "      <th>...</th>\n",
       "      <td>...</td>\n",
       "      <td>...</td>\n",
       "      <td>...</td>\n",
       "      <td>...</td>\n",
       "      <td>...</td>\n",
       "      <td>...</td>\n",
       "      <td>...</td>\n",
       "      <td>...</td>\n",
       "      <td>...</td>\n",
       "      <td>...</td>\n",
       "      <td>...</td>\n",
       "      <td>...</td>\n",
       "      <td>...</td>\n",
       "      <td>...</td>\n",
       "      <td>...</td>\n",
       "      <td>...</td>\n",
       "      <td>...</td>\n",
       "      <td>...</td>\n",
       "      <td>...</td>\n",
       "      <td>...</td>\n",
       "      <td>...</td>\n",
       "    </tr>\n",
       "    <tr>\n",
       "      <th>995</th>\n",
       "      <td>1</td>\n",
       "      <td>1</td>\n",
       "      <td>1</td>\n",
       "      <td>0</td>\n",
       "      <td>1</td>\n",
       "      <td>0</td>\n",
       "      <td>1</td>\n",
       "      <td>1</td>\n",
       "      <td>0</td>\n",
       "      <td>1</td>\n",
       "      <td>...</td>\n",
       "      <td>0</td>\n",
       "      <td>1</td>\n",
       "      <td>0</td>\n",
       "      <td>1</td>\n",
       "      <td>1</td>\n",
       "      <td>1</td>\n",
       "      <td>1</td>\n",
       "      <td>1</td>\n",
       "      <td>1</td>\n",
       "      <td>False</td>\n",
       "    </tr>\n",
       "    <tr>\n",
       "      <th>996</th>\n",
       "      <td>1</td>\n",
       "      <td>0</td>\n",
       "      <td>0</td>\n",
       "      <td>1</td>\n",
       "      <td>0</td>\n",
       "      <td>0</td>\n",
       "      <td>1</td>\n",
       "      <td>1</td>\n",
       "      <td>0</td>\n",
       "      <td>1</td>\n",
       "      <td>...</td>\n",
       "      <td>0</td>\n",
       "      <td>1</td>\n",
       "      <td>1</td>\n",
       "      <td>1</td>\n",
       "      <td>0</td>\n",
       "      <td>1</td>\n",
       "      <td>1</td>\n",
       "      <td>0</td>\n",
       "      <td>1</td>\n",
       "      <td>False</td>\n",
       "    </tr>\n",
       "    <tr>\n",
       "      <th>997</th>\n",
       "      <td>1</td>\n",
       "      <td>1</td>\n",
       "      <td>0</td>\n",
       "      <td>0</td>\n",
       "      <td>0</td>\n",
       "      <td>0</td>\n",
       "      <td>0</td>\n",
       "      <td>1</td>\n",
       "      <td>0</td>\n",
       "      <td>0</td>\n",
       "      <td>...</td>\n",
       "      <td>1</td>\n",
       "      <td>1</td>\n",
       "      <td>0</td>\n",
       "      <td>1</td>\n",
       "      <td>0</td>\n",
       "      <td>1</td>\n",
       "      <td>1</td>\n",
       "      <td>0</td>\n",
       "      <td>1</td>\n",
       "      <td>False</td>\n",
       "    </tr>\n",
       "    <tr>\n",
       "      <th>998</th>\n",
       "      <td>1</td>\n",
       "      <td>1</td>\n",
       "      <td>0</td>\n",
       "      <td>1</td>\n",
       "      <td>0</td>\n",
       "      <td>0</td>\n",
       "      <td>0</td>\n",
       "      <td>1</td>\n",
       "      <td>1</td>\n",
       "      <td>0</td>\n",
       "      <td>...</td>\n",
       "      <td>1</td>\n",
       "      <td>0</td>\n",
       "      <td>0</td>\n",
       "      <td>0</td>\n",
       "      <td>1</td>\n",
       "      <td>1</td>\n",
       "      <td>0</td>\n",
       "      <td>0</td>\n",
       "      <td>0</td>\n",
       "      <td>False</td>\n",
       "    </tr>\n",
       "    <tr>\n",
       "      <th>999</th>\n",
       "      <td>1</td>\n",
       "      <td>1</td>\n",
       "      <td>0</td>\n",
       "      <td>0</td>\n",
       "      <td>0</td>\n",
       "      <td>1</td>\n",
       "      <td>1</td>\n",
       "      <td>0</td>\n",
       "      <td>1</td>\n",
       "      <td>1</td>\n",
       "      <td>...</td>\n",
       "      <td>0</td>\n",
       "      <td>0</td>\n",
       "      <td>0</td>\n",
       "      <td>0</td>\n",
       "      <td>0</td>\n",
       "      <td>0</td>\n",
       "      <td>1</td>\n",
       "      <td>1</td>\n",
       "      <td>1</td>\n",
       "      <td>False</td>\n",
       "    </tr>\n",
       "  </tbody>\n",
       "</table>\n",
       "<p>1000 rows × 36 columns</p>\n",
       "</div>"
      ],
      "text/plain": [
       "    I1 I2Q1 I2F1Q1 I2F1Q2 I3F1Q2 I3F1Q1 I3F2Q1 I3F2Q2 I3F3Q1 I3F3Q2  ... I5Q1  \\\n",
       "0    1    1      1      1      1      1      0      1      1      0  ...    1   \n",
       "1    1    0      0      1      0      0      0      0      0      1  ...    1   \n",
       "2    1    0      1      1      0      1      0      0      0      0  ...    0   \n",
       "3    1    0      1      0      1      1      0      0      1      1  ...    0   \n",
       "4    1    0      1      0      0      0      1      1      1      0  ...    1   \n",
       "..  ..  ...    ...    ...    ...    ...    ...    ...    ...    ...  ...  ...   \n",
       "995  1    1      1      0      1      0      1      1      0      1  ...    0   \n",
       "996  1    0      0      1      0      0      1      1      0      1  ...    0   \n",
       "997  1    1      0      0      0      0      0      1      0      0  ...    1   \n",
       "998  1    1      0      1      0      0      0      1      1      0  ...    1   \n",
       "999  1    1      0      0      0      1      1      0      1      1  ...    0   \n",
       "\n",
       "    I5F2Q3 I5F2Q2 I5F2Q1 I5F3Q1 I5F3Q2 I5F4Q1 I5F4Q2 I5Q2 violation  \n",
       "0        1      1      1      1      1      1      1    0     False  \n",
       "1        0      1      0      0      1      1      0    1     False  \n",
       "2        0      0      1      1      1      1      0    1     False  \n",
       "3        1      0      0      0      1      0      1    1     False  \n",
       "4        0      1      0      0      1      1      0    0     False  \n",
       "..     ...    ...    ...    ...    ...    ...    ...  ...       ...  \n",
       "995      1      0      1      1      1      1      1    1     False  \n",
       "996      1      1      1      0      1      1      0    1     False  \n",
       "997      1      0      1      0      1      1      0    1     False  \n",
       "998      0      0      0      1      1      0      0    0     False  \n",
       "999      0      0      0      0      0      1      1    1     False  \n",
       "\n",
       "[1000 rows x 36 columns]"
      ]
     },
     "execution_count": 12,
     "metadata": {},
     "output_type": "execute_result"
    }
   ],
   "source": [
    "df = art6_ADF.create_dataset(1000)\n",
    "df.to_csv('datasets/article6.csv')\n",
    "df"
   ]
  },
  {
   "cell_type": "markdown",
   "id": "1d4380f7-c783-4aa1-a8a7-50488c80d6d0",
   "metadata": {},
   "source": [
    "### Explaining the outcome of the ADF "
   ]
  },
  {
   "cell_type": "code",
   "execution_count": 13,
   "id": "f75c73d9-f0f3-4219-b7ca-262956c4b870",
   "metadata": {},
   "outputs": [
    {
     "name": "stdout",
     "output_type": "stream",
     "text": [
      "We examined the question: 'Violation of Article 6?' and determine that this is False.\n",
      "We believe this to be the case, as we can answer yes to the following questions:\n",
      "\tIs the applicant a victim?\n",
      "\tIs the case well founded?\n",
      "\tWas the case conducted in a reasonable time?\n",
      "\tThe government was subjectively impartial?\n",
      "\tIf the case was public, the public wouldn’t prejudice the outcome?\n",
      "\tThe safety of the public wouldn’t be impacted, if the case was public?\n",
      "\tWas the case conducted publicly?\n",
      "\tWas the victim given appropriate access to Court?\n",
      "\tCan the highest court be considered binding in its findings?\n",
      "\tWas the case was reopened due to new facts or a fundamental defect in fairness?\n",
      "\tAre there profound and long-standing differences in the case law?\n",
      "\tHave tools have been used to overcome any difference in case law?\n",
      "\tAny doubts benefited applicant?\n",
      "\tWas the applicant given details of the case?\n",
      "\tWitnesses were examined under same conditions?\n",
      "\tWitnesses had a valid reason for non attendance?\n",
      "\tThe applicant could have free access to interpreter.\n",
      "\n",
      "While we can answer 'no' to the following questions:\n",
      "\tThe case examines a fundamental aspect?\n",
      "\tHave all Domestic courts have been exhausted?\n",
      "\tDid the government cause any unreasonable delays?\n",
      "\tThe government was objectively impartial?\n",
      "\tAny extra privacy is not required in this case?\n",
      "\tThe public would not hinder justice, if the case was public?\n",
      "\tWas the case pronounced publicly?\n",
      "\tWas there equality of arms?\n",
      "\tWas the victim presumed innocent?\n",
      "\tDoes the Prosecution bares the burden of proof?\n",
      "\tWas the applicant informed in the correct language?\n",
      "\tWas the applicant told what crime they had committed?\n",
      "\tThe applicant had time and facilities to prepare their defence?\n",
      "\tThe applicant was not prevented from accessing lawyers?\n",
      "\tHas the applicant waived right to defend themselves?\n",
      "\tHas the applicant attempted to escape trial?\n",
      "\tDid the applicant have access to legal assistance?\n",
      "\tDid the applicant have access to free legal assistance if necessary?\n",
      "\n"
     ]
    }
   ],
   "source": [
    "print(art6_ADF.explain())"
   ]
  },
  {
   "cell_type": "code",
   "execution_count": null,
   "id": "834a9b5c-d5cd-49a4-9217-cb919ba36fd8",
   "metadata": {},
   "outputs": [],
   "source": []
  }
 ],
 "metadata": {
  "kernelspec": {
   "display_name": "Python 3 (ipykernel)",
   "language": "python",
   "name": "python3"
  },
  "language_info": {
   "codemirror_mode": {
    "name": "ipython",
    "version": 3
   },
   "file_extension": ".py",
   "mimetype": "text/x-python",
   "name": "python",
   "nbconvert_exporter": "python",
   "pygments_lexer": "ipython3",
   "version": "3.9.6"
  }
 },
 "nbformat": 4,
 "nbformat_minor": 5
}
